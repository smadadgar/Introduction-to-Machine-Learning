{
 "cells": [
  {
   "cell_type": "markdown",
   "id": "27950466-e1fe-4c94-92d6-9326ae02d864",
   "metadata": {},
   "source": [
    "<font size=\"6\">**Project definition**</font>\n",
    "\n",
    "This project aims to evaluate the performance of individual models compared to their combined effect. I will utilize the MNIST dataset, dividing it into a training set (60,000 instances), and a test set (10,000 instances). Various classifiers, including Random Forest, Extra Trees, and Support Vector Machines (SVM), will be trained on the training set. These classifiers will then be combined into an ensemble, and their performances will be assessed on the test set using hard voting.\n",
    "\n",
    "<font size=\"5\">**Import required libraries**</font>"
   ]
  },
  {
   "cell_type": "code",
   "execution_count": 45,
   "id": "41ecea10-d392-4c11-9cf9-be9998f873b6",
   "metadata": {},
   "outputs": [],
   "source": [
    "from sklearn.model_selection import train_test_split\n",
    "from sklearn.ensemble import RandomForestClassifier, ExtraTreesClassifier, VotingClassifier\n",
    "from sklearn.svm import SVC\n",
    "from sklearn.datasets import fetch_openml\n",
    "from sklearn.metrics import accuracy_score\n",
    "import numpy as np"
   ]
  },
  {
   "cell_type": "markdown",
   "id": "2c43ae21-b2a0-423d-ab04-884527cb510d",
   "metadata": {},
   "source": [
    "<font size=\"5\">**Define score function**</font>"
   ]
  },
  {
   "cell_type": "code",
   "execution_count": 4,
   "id": "b976f8c1-7ebb-4535-93b2-77f50d32521c",
   "metadata": {},
   "outputs": [],
   "source": [
    "def Score(classifier, X_data, y_data):\n",
    "    prediction = classifier.predict(X_data)\n",
    "    score = accuracy_score(y_data, prediction)\n",
    "    return score"
   ]
  },
  {
   "cell_type": "markdown",
   "id": "ecd34ba4-3149-43bd-84c0-cf430ec7c5bc",
   "metadata": {},
   "source": [
    "<font size=\"5\">**Split the dataset into training and test sets**</font>"
   ]
  },
  {
   "cell_type": "code",
   "execution_count": 7,
   "id": "75c5170e-3349-4aa8-b076-1c508ddafd86",
   "metadata": {},
   "outputs": [],
   "source": [
    "# Step 1: Load MNIST dataset\n",
    "mnist = fetch_openml('mnist_784', version = 1)\n",
    "X = mnist['data']\n",
    "y = mnist['target']\n",
    "\n",
    "# Step 2: Split the dataset into training and test sets\n",
    "X_train, X_test, y_train, y_test = train_test_split(X, y , train_size = 60000, test_size = 10000, random_state = 42)"
   ]
  },
  {
   "cell_type": "markdown",
   "id": "5f0cb886-359b-4f52-918c-4fe8fb791f17",
   "metadata": {},
   "source": [
    "<font size=\"5\">**Fitting classifiers and predicting on test set**</font>"
   ]
  },
  {
   "cell_type": "code",
   "execution_count": 10,
   "id": "55d7bc07",
   "metadata": {},
   "outputs": [
    {
     "name": "stdout",
     "output_type": "stream",
     "text": [
      "Training the RandomForestClassifier(random_state=42)\n",
      "Training the SVC(random_state=42)\n",
      "Training the ExtraTreesClassifier(random_state=42)\n",
      "Training the VotingClassifier(estimators=[('rf', RandomForestClassifier(random_state=42)),\n",
      "                             ('svm', SVC(random_state=42)),\n",
      "                             ('et', ExtraTreesClassifier(random_state=42))])\n",
      "Test score for RF is 0.9674, for SVM is 0.9773, and for ET is 0.9682\n",
      "Test score for the ensemble of all three is 0.9723\n"
     ]
    }
   ],
   "source": [
    "rf_clf = RandomForestClassifier(n_estimators = 100, random_state = 42)\n",
    "svm_clf = SVC(random_state = 42)\n",
    "et_clf = ExtraTreesClassifier(n_estimators = 100, random_state = 42)\n",
    "voting_clf = VotingClassifier(estimators = [('rf',rf_clf), ('svm',svm_clf), ('et',et_clf)],voting='hard')\n",
    "    \n",
    "classifiers = [rf_clf, svm_clf, et_clf, voting_clf]\n",
    "scores = []\n",
    "for clf in classifiers:\n",
    "    print(\"Training the\", clf)\n",
    "    clf.fit(X_train, y_train)\n",
    "    scores.append(Score(clf, X_test, y_test))\n",
    "\n",
    "# print the results\n",
    "print(f'Test score for RF is {scores[0]}, for SVM is {scores[1]}, and for ET is {scores[2]}')\n",
    "print(f'Test score for the ensemble of all three is {scores[3]}')"
   ]
  },
  {
   "cell_type": "markdown",
   "id": "a70c7722-e40e-46ff-b761-da32bd5de01c",
   "metadata": {},
   "source": [
    "**The test results indicate that the SVM classifier outperformed the other models on the test set. The combined ensemble achieved better performance than the worst model, which is significant.\n",
    "Although the ensemble's performance is slightly lower than SVM, it offers the advantage of integrating multiple models to produce reliable results.**"
   ]
  }
 ],
 "metadata": {
  "kernelspec": {
   "display_name": "Python 3 (ipykernel)",
   "language": "python",
   "name": "python3"
  },
  "language_info": {
   "codemirror_mode": {
    "name": "ipython",
    "version": 3
   },
   "file_extension": ".py",
   "mimetype": "text/x-python",
   "name": "python",
   "nbconvert_exporter": "python",
   "pygments_lexer": "ipython3",
   "version": "3.12.4"
  }
 },
 "nbformat": 4,
 "nbformat_minor": 5
}
